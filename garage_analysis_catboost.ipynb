{
 "cells": [
  {
   "cell_type": "markdown",
   "metadata": {},
   "source": [
    "# Analysing if garage is important to SalesPrice of house\n",
    "\n",
    "## Gradient Boosting with CatBoost\n",
    "### Pre-process data"
   ]
  },
  {
   "cell_type": "code",
   "execution_count": 85,
   "metadata": {},
   "outputs": [],
   "source": [
    "#Import required libraries\n",
    "import pandas as pd\n",
    "import matplotlib.pyplot as plt\n",
    "import numpy as np\n",
    "import seaborn as sns"
   ]
  },
  {
   "cell_type": "code",
   "execution_count": 86,
   "metadata": {},
   "outputs": [],
   "source": [
    "from sklearn.model_selection import train_test_split \n",
    "from sklearn import metrics\n",
    "from sklearn.metrics import mean_squared_error\n",
    "from math import sqrt"
   ]
  },
  {
   "cell_type": "code",
   "execution_count": 87,
   "metadata": {},
   "outputs": [],
   "source": [
    "from catboost import CatBoostRegressor"
   ]
  },
  {
   "cell_type": "code",
   "execution_count": 88,
   "metadata": {},
   "outputs": [],
   "source": [
    "data = r'/Users/OliverPan/Desktop/house/garage.csv'"
   ]
  },
  {
   "cell_type": "code",
   "execution_count": 89,
   "metadata": {},
   "outputs": [],
   "source": [
    "garage_df = pd.read_csv(data)"
   ]
  },
  {
   "cell_type": "code",
   "execution_count": 90,
   "metadata": {},
   "outputs": [
    {
     "data": {
      "text/html": [
       "<div>\n",
       "<style scoped>\n",
       "    .dataframe tbody tr th:only-of-type {\n",
       "        vertical-align: middle;\n",
       "    }\n",
       "\n",
       "    .dataframe tbody tr th {\n",
       "        vertical-align: top;\n",
       "    }\n",
       "\n",
       "    .dataframe thead th {\n",
       "        text-align: right;\n",
       "    }\n",
       "</style>\n",
       "<table border=\"1\" class=\"dataframe\">\n",
       "  <thead>\n",
       "    <tr style=\"text-align: right;\">\n",
       "      <th></th>\n",
       "      <th>SalePrice</th>\n",
       "      <th>GarageType</th>\n",
       "      <th>GarageYrBlt</th>\n",
       "      <th>GarageFinish</th>\n",
       "      <th>GarageCars</th>\n",
       "      <th>GarageArea</th>\n",
       "    </tr>\n",
       "  </thead>\n",
       "  <tbody>\n",
       "    <tr>\n",
       "      <th>0</th>\n",
       "      <td>208500</td>\n",
       "      <td>Attchd</td>\n",
       "      <td>2003.0</td>\n",
       "      <td>RFn</td>\n",
       "      <td>2</td>\n",
       "      <td>548</td>\n",
       "    </tr>\n",
       "    <tr>\n",
       "      <th>1</th>\n",
       "      <td>181500</td>\n",
       "      <td>Attchd</td>\n",
       "      <td>1976.0</td>\n",
       "      <td>RFn</td>\n",
       "      <td>2</td>\n",
       "      <td>460</td>\n",
       "    </tr>\n",
       "    <tr>\n",
       "      <th>2</th>\n",
       "      <td>223500</td>\n",
       "      <td>Attchd</td>\n",
       "      <td>2001.0</td>\n",
       "      <td>RFn</td>\n",
       "      <td>2</td>\n",
       "      <td>608</td>\n",
       "    </tr>\n",
       "    <tr>\n",
       "      <th>3</th>\n",
       "      <td>140000</td>\n",
       "      <td>Detchd</td>\n",
       "      <td>1998.0</td>\n",
       "      <td>Unf</td>\n",
       "      <td>3</td>\n",
       "      <td>642</td>\n",
       "    </tr>\n",
       "    <tr>\n",
       "      <th>4</th>\n",
       "      <td>250000</td>\n",
       "      <td>Attchd</td>\n",
       "      <td>2000.0</td>\n",
       "      <td>RFn</td>\n",
       "      <td>3</td>\n",
       "      <td>836</td>\n",
       "    </tr>\n",
       "  </tbody>\n",
       "</table>\n",
       "</div>"
      ],
      "text/plain": [
       "   SalePrice GarageType  GarageYrBlt GarageFinish  GarageCars  GarageArea\n",
       "0     208500     Attchd       2003.0          RFn           2         548\n",
       "1     181500     Attchd       1976.0          RFn           2         460\n",
       "2     223500     Attchd       2001.0          RFn           2         608\n",
       "3     140000     Detchd       1998.0          Unf           3         642\n",
       "4     250000     Attchd       2000.0          RFn           3         836"
      ]
     },
     "execution_count": 90,
     "metadata": {},
     "output_type": "execute_result"
    }
   ],
   "source": [
    "garage_df.head()"
   ]
  },
  {
   "cell_type": "code",
   "execution_count": 91,
   "metadata": {},
   "outputs": [],
   "source": [
    "garage_df = garage_df[garage_df[\"GarageCars\"] != 4]"
   ]
  },
  {
   "cell_type": "markdown",
   "metadata": {},
   "source": [
    "### Additional pre-processing"
   ]
  },
  {
   "cell_type": "code",
   "execution_count": 92,
   "metadata": {},
   "outputs": [],
   "source": [
    "garage_df[\"GarageType\"] = garage_df[\"GarageType\"].astype(\"category\").cat.codes\n",
    "garage_df[\"GarageFinish\"] = garage_df[\"GarageFinish\"].astype(\"category\").cat.codes\n",
    "garage_df[\"GarageCars\"] = garage_df[\"GarageCars\"].astype(\"category\").cat.codes\n",
    "\n",
    "garage_df = garage_df.dropna()"
   ]
  },
  {
   "cell_type": "markdown",
   "metadata": {},
   "source": [
    "### CatBoost with all variables"
   ]
  },
  {
   "cell_type": "code",
   "execution_count": 93,
   "metadata": {},
   "outputs": [],
   "source": [
    "X = garage_df.drop([\"SalePrice\"], axis = 1)\n",
    "y = garage_df[[\"SalePrice\"]]"
   ]
  },
  {
   "cell_type": "code",
   "execution_count": 94,
   "metadata": {},
   "outputs": [],
   "source": [
    "category = [\"GarageType\", \"GarageFinish\", \"GarageCars\"]"
   ]
  },
  {
   "cell_type": "code",
   "execution_count": 95,
   "metadata": {},
   "outputs": [],
   "source": [
    "X_train, X_test, y_train, y_test = train_test_split(X, y, test_size=0.25, random_state = 42)"
   ]
  },
  {
   "cell_type": "code",
   "execution_count": 96,
   "metadata": {},
   "outputs": [
    {
     "name": "stdout",
     "output_type": "stream",
     "text": [
      "0:\tlearn: 78580.2497440\ttotal: 719us\tremaining: 35.3ms\n",
      "1:\tlearn: 75729.6640953\ttotal: 1.52ms\tremaining: 36.6ms\n",
      "2:\tlearn: 72818.2791896\ttotal: 3.78ms\tremaining: 59.3ms\n",
      "3:\tlearn: 70572.9639516\ttotal: 6.18ms\tremaining: 71.1ms\n",
      "4:\tlearn: 68773.3798415\ttotal: 7.59ms\tremaining: 68.3ms\n",
      "5:\tlearn: 66973.6782170\ttotal: 8.22ms\tremaining: 60.3ms\n",
      "6:\tlearn: 65188.2850673\ttotal: 8.83ms\tremaining: 54.2ms\n",
      "7:\tlearn: 63691.8740222\ttotal: 9.39ms\tremaining: 49.3ms\n",
      "8:\tlearn: 62379.6832947\ttotal: 10.4ms\tremaining: 47.3ms\n",
      "9:\tlearn: 60705.9750250\ttotal: 11.2ms\tremaining: 45ms\n",
      "10:\tlearn: 59519.2239829\ttotal: 11.9ms\tremaining: 42.1ms\n",
      "11:\tlearn: 58294.6395396\ttotal: 12.4ms\tremaining: 39.3ms\n",
      "12:\tlearn: 57257.5609077\ttotal: 13ms\tremaining: 37.1ms\n",
      "13:\tlearn: 56521.0564712\ttotal: 13.6ms\tremaining: 35ms\n",
      "14:\tlearn: 55887.3863978\ttotal: 14.2ms\tremaining: 33.1ms\n",
      "15:\tlearn: 55321.0488998\ttotal: 14.8ms\tremaining: 31.4ms\n",
      "16:\tlearn: 54810.5783296\ttotal: 15.3ms\tremaining: 29.8ms\n",
      "17:\tlearn: 54436.7225397\ttotal: 15.9ms\tremaining: 28.3ms\n",
      "18:\tlearn: 54134.7809046\ttotal: 18.1ms\tremaining: 29.6ms\n",
      "19:\tlearn: 53900.3127817\ttotal: 19.3ms\tremaining: 28.9ms\n",
      "20:\tlearn: 53469.6446369\ttotal: 20.1ms\tremaining: 27.8ms\n",
      "21:\tlearn: 52990.5450031\ttotal: 20.7ms\tremaining: 26.3ms\n",
      "22:\tlearn: 52525.3054122\ttotal: 21.3ms\tremaining: 25ms\n",
      "23:\tlearn: 52095.1566051\ttotal: 21.9ms\tremaining: 23.7ms\n",
      "24:\tlearn: 51868.3131410\ttotal: 22.4ms\tremaining: 22.4ms\n",
      "25:\tlearn: 51549.6382717\ttotal: 23ms\tremaining: 21.2ms\n",
      "26:\tlearn: 51401.3093948\ttotal: 24ms\tremaining: 20.4ms\n",
      "27:\tlearn: 50995.3295491\ttotal: 24.9ms\tremaining: 19.5ms\n",
      "28:\tlearn: 50651.7858964\ttotal: 25.4ms\tremaining: 18.4ms\n",
      "29:\tlearn: 50519.4551745\ttotal: 26.1ms\tremaining: 17.4ms\n",
      "30:\tlearn: 50337.6531238\ttotal: 26.7ms\tremaining: 16.3ms\n",
      "31:\tlearn: 50266.7086067\ttotal: 27.2ms\tremaining: 15.3ms\n",
      "32:\tlearn: 49987.8487738\ttotal: 27.8ms\tremaining: 14.3ms\n",
      "33:\tlearn: 49694.7550599\ttotal: 28.5ms\tremaining: 13.4ms\n",
      "34:\tlearn: 49432.3823411\ttotal: 29.1ms\tremaining: 12.5ms\n",
      "35:\tlearn: 49237.4326010\ttotal: 29.6ms\tremaining: 11.5ms\n",
      "36:\tlearn: 49138.3714485\ttotal: 31.4ms\tremaining: 11ms\n",
      "37:\tlearn: 49107.8762336\ttotal: 32ms\tremaining: 10.1ms\n",
      "38:\tlearn: 48925.7929184\ttotal: 32.6ms\tremaining: 9.19ms\n",
      "39:\tlearn: 48836.2645344\ttotal: 33.2ms\tremaining: 8.3ms\n",
      "40:\tlearn: 48745.3702532\ttotal: 33.8ms\tremaining: 7.41ms\n",
      "41:\tlearn: 48639.2218405\ttotal: 34.4ms\tremaining: 6.55ms\n",
      "42:\tlearn: 48585.8767040\ttotal: 35ms\tremaining: 5.71ms\n",
      "43:\tlearn: 48496.8147333\ttotal: 35.6ms\tremaining: 4.86ms\n",
      "44:\tlearn: 48410.8636983\ttotal: 36.3ms\tremaining: 4.03ms\n",
      "45:\tlearn: 48343.5324404\ttotal: 36.9ms\tremaining: 3.21ms\n",
      "46:\tlearn: 48268.4041928\ttotal: 37.9ms\tremaining: 2.42ms\n",
      "47:\tlearn: 48112.4997117\ttotal: 38.5ms\tremaining: 1.6ms\n",
      "48:\tlearn: 48106.5643855\ttotal: 39.2ms\tremaining: 799us\n",
      "49:\tlearn: 48010.3795503\ttotal: 39.8ms\tremaining: 0us\n"
     ]
    },
    {
     "data": {
      "text/plain": [
       "<catboost.core.CatBoostRegressor at 0x1a1a488d50>"
      ]
     },
     "execution_count": 96,
     "metadata": {},
     "output_type": "execute_result"
    }
   ],
   "source": [
    "cat_boost = CatBoostRegressor(iterations=50, depth=3, learning_rate=0.1, loss_function='RMSE')\n",
    "cat_boost.fit(X_train, y_train, cat_features=category)"
   ]
  },
  {
   "cell_type": "code",
   "execution_count": 97,
   "metadata": {},
   "outputs": [],
   "source": [
    "y_pred = cat_boost.predict(X_test)"
   ]
  },
  {
   "cell_type": "code",
   "execution_count": 98,
   "metadata": {},
   "outputs": [
    {
     "data": {
      "text/html": [
       "<div>\n",
       "<style scoped>\n",
       "    .dataframe tbody tr th:only-of-type {\n",
       "        vertical-align: middle;\n",
       "    }\n",
       "\n",
       "    .dataframe tbody tr th {\n",
       "        vertical-align: top;\n",
       "    }\n",
       "\n",
       "    .dataframe thead th {\n",
       "        text-align: right;\n",
       "    }\n",
       "</style>\n",
       "<table border=\"1\" class=\"dataframe\">\n",
       "  <thead>\n",
       "    <tr style=\"text-align: right;\">\n",
       "      <th></th>\n",
       "      <th>Actual</th>\n",
       "      <th>Predicted</th>\n",
       "    </tr>\n",
       "  </thead>\n",
       "  <tbody>\n",
       "    <tr>\n",
       "      <th>0</th>\n",
       "      <td>161000</td>\n",
       "      <td>122720.456820</td>\n",
       "    </tr>\n",
       "    <tr>\n",
       "      <th>1</th>\n",
       "      <td>153000</td>\n",
       "      <td>136285.985763</td>\n",
       "    </tr>\n",
       "    <tr>\n",
       "      <th>2</th>\n",
       "      <td>270000</td>\n",
       "      <td>292789.761674</td>\n",
       "    </tr>\n",
       "    <tr>\n",
       "      <th>3</th>\n",
       "      <td>274900</td>\n",
       "      <td>367430.190476</td>\n",
       "    </tr>\n",
       "    <tr>\n",
       "      <th>4</th>\n",
       "      <td>151000</td>\n",
       "      <td>157422.324563</td>\n",
       "    </tr>\n",
       "  </tbody>\n",
       "</table>\n",
       "</div>"
      ],
      "text/plain": [
       "   Actual      Predicted\n",
       "0  161000  122720.456820\n",
       "1  153000  136285.985763\n",
       "2  270000  292789.761674\n",
       "3  274900  367430.190476\n",
       "4  151000  157422.324563"
      ]
     },
     "execution_count": 98,
     "metadata": {},
     "output_type": "execute_result"
    }
   ],
   "source": [
    "df = pd.DataFrame({'Actual': y_test[\"SalePrice\"].to_list(), 'Predicted': list(y_pred.flatten())})\n",
    "df.head()"
   ]
  },
  {
   "cell_type": "code",
   "execution_count": 99,
   "metadata": {},
   "outputs": [
    {
     "name": "stdout",
     "output_type": "stream",
     "text": [
      "Mean Absolute Error: 29663.523250014856\n"
     ]
    }
   ],
   "source": [
    "## Error is ok, slowly lowering\n",
    "print('Mean Absolute Error:', metrics.mean_absolute_error(y_test, y_pred))  "
   ]
  },
  {
   "cell_type": "code",
   "execution_count": 100,
   "metadata": {},
   "outputs": [
    {
     "data": {
      "text/plain": [
       "43527.27728829656"
      ]
     },
     "execution_count": 100,
     "metadata": {},
     "output_type": "execute_result"
    }
   ],
   "source": [
    "## We should also look at RMSE\n",
    "rmse = sqrt(mean_squared_error(y_test, y_pred))\n",
    "rmse"
   ]
  },
  {
   "cell_type": "code",
   "execution_count": 102,
   "metadata": {},
   "outputs": [
    {
     "data": {
      "text/plain": [
       "0.08874062647970755"
      ]
     },
     "execution_count": 102,
     "metadata": {},
     "output_type": "execute_result"
    }
   ],
   "source": [
    "## Normalised RMSE\n",
    "sqrt(mean_squared_error(y_test, y_pred)) / (y_test[\"SalePrice\"].max() - y_test[\"SalePrice\"].min())"
   ]
  },
  {
   "cell_type": "code",
   "execution_count": null,
   "metadata": {},
   "outputs": [],
   "source": []
  }
 ],
 "metadata": {
  "kernelspec": {
   "display_name": "Python 3",
   "language": "python",
   "name": "python3"
  },
  "language_info": {
   "codemirror_mode": {
    "name": "ipython",
    "version": 3
   },
   "file_extension": ".py",
   "mimetype": "text/x-python",
   "name": "python",
   "nbconvert_exporter": "python",
   "pygments_lexer": "ipython3",
   "version": "3.7.6"
  }
 },
 "nbformat": 4,
 "nbformat_minor": 4
}
