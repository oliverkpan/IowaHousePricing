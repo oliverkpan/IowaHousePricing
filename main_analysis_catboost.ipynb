{
 "cells": [
  {
   "cell_type": "markdown",
   "metadata": {},
   "source": [
    "# Analysing the main_house data to predict house prices\n",
    "\n",
    "### Pre-process data"
   ]
  },
  {
   "cell_type": "code",
   "execution_count": 113,
   "metadata": {},
   "outputs": [],
   "source": [
    "#Import required libraries\n",
    "import pandas as pd\n",
    "import matplotlib.pyplot as plt\n",
    "import numpy as np\n",
    "import seaborn as sns"
   ]
  },
  {
   "cell_type": "code",
   "execution_count": 114,
   "metadata": {},
   "outputs": [],
   "source": [
    "from sklearn.model_selection import train_test_split \n",
    "from sklearn import metrics\n",
    "\n",
    "from catboost import CatBoostRegressor, Pool\n",
    "\n",
    "from sklearn.metrics import mean_squared_error\n",
    "from math import sqrt"
   ]
  },
  {
   "cell_type": "code",
   "execution_count": 115,
   "metadata": {},
   "outputs": [],
   "source": [
    "data = r'/Users/OliverPan/Desktop/house/train.csv'"
   ]
  },
  {
   "cell_type": "code",
   "execution_count": 116,
   "metadata": {},
   "outputs": [],
   "source": [
    "df = pd.read_csv(data)"
   ]
  },
  {
   "cell_type": "code",
   "execution_count": 117,
   "metadata": {},
   "outputs": [
    {
     "data": {
      "text/html": [
       "<div>\n",
       "<style scoped>\n",
       "    .dataframe tbody tr th:only-of-type {\n",
       "        vertical-align: middle;\n",
       "    }\n",
       "\n",
       "    .dataframe tbody tr th {\n",
       "        vertical-align: top;\n",
       "    }\n",
       "\n",
       "    .dataframe thead th {\n",
       "        text-align: right;\n",
       "    }\n",
       "</style>\n",
       "<table border=\"1\" class=\"dataframe\">\n",
       "  <thead>\n",
       "    <tr style=\"text-align: right;\">\n",
       "      <th></th>\n",
       "      <th>Id</th>\n",
       "      <th>MSSubClass</th>\n",
       "      <th>MSZoning</th>\n",
       "      <th>LotFrontage</th>\n",
       "      <th>LotArea</th>\n",
       "      <th>Street</th>\n",
       "      <th>Alley</th>\n",
       "      <th>LotShape</th>\n",
       "      <th>LandContour</th>\n",
       "      <th>Utilities</th>\n",
       "      <th>...</th>\n",
       "      <th>PoolArea</th>\n",
       "      <th>PoolQC</th>\n",
       "      <th>Fence</th>\n",
       "      <th>MiscFeature</th>\n",
       "      <th>MiscVal</th>\n",
       "      <th>MoSold</th>\n",
       "      <th>YrSold</th>\n",
       "      <th>SaleType</th>\n",
       "      <th>SaleCondition</th>\n",
       "      <th>SalePrice</th>\n",
       "    </tr>\n",
       "  </thead>\n",
       "  <tbody>\n",
       "    <tr>\n",
       "      <th>0</th>\n",
       "      <td>1</td>\n",
       "      <td>60</td>\n",
       "      <td>RL</td>\n",
       "      <td>65.0</td>\n",
       "      <td>8450</td>\n",
       "      <td>Pave</td>\n",
       "      <td>NaN</td>\n",
       "      <td>Reg</td>\n",
       "      <td>Lvl</td>\n",
       "      <td>AllPub</td>\n",
       "      <td>...</td>\n",
       "      <td>0</td>\n",
       "      <td>NaN</td>\n",
       "      <td>NaN</td>\n",
       "      <td>NaN</td>\n",
       "      <td>0</td>\n",
       "      <td>2</td>\n",
       "      <td>2008</td>\n",
       "      <td>WD</td>\n",
       "      <td>Normal</td>\n",
       "      <td>208500</td>\n",
       "    </tr>\n",
       "    <tr>\n",
       "      <th>1</th>\n",
       "      <td>2</td>\n",
       "      <td>20</td>\n",
       "      <td>RL</td>\n",
       "      <td>80.0</td>\n",
       "      <td>9600</td>\n",
       "      <td>Pave</td>\n",
       "      <td>NaN</td>\n",
       "      <td>Reg</td>\n",
       "      <td>Lvl</td>\n",
       "      <td>AllPub</td>\n",
       "      <td>...</td>\n",
       "      <td>0</td>\n",
       "      <td>NaN</td>\n",
       "      <td>NaN</td>\n",
       "      <td>NaN</td>\n",
       "      <td>0</td>\n",
       "      <td>5</td>\n",
       "      <td>2007</td>\n",
       "      <td>WD</td>\n",
       "      <td>Normal</td>\n",
       "      <td>181500</td>\n",
       "    </tr>\n",
       "    <tr>\n",
       "      <th>2</th>\n",
       "      <td>3</td>\n",
       "      <td>60</td>\n",
       "      <td>RL</td>\n",
       "      <td>68.0</td>\n",
       "      <td>11250</td>\n",
       "      <td>Pave</td>\n",
       "      <td>NaN</td>\n",
       "      <td>IR1</td>\n",
       "      <td>Lvl</td>\n",
       "      <td>AllPub</td>\n",
       "      <td>...</td>\n",
       "      <td>0</td>\n",
       "      <td>NaN</td>\n",
       "      <td>NaN</td>\n",
       "      <td>NaN</td>\n",
       "      <td>0</td>\n",
       "      <td>9</td>\n",
       "      <td>2008</td>\n",
       "      <td>WD</td>\n",
       "      <td>Normal</td>\n",
       "      <td>223500</td>\n",
       "    </tr>\n",
       "    <tr>\n",
       "      <th>3</th>\n",
       "      <td>4</td>\n",
       "      <td>70</td>\n",
       "      <td>RL</td>\n",
       "      <td>60.0</td>\n",
       "      <td>9550</td>\n",
       "      <td>Pave</td>\n",
       "      <td>NaN</td>\n",
       "      <td>IR1</td>\n",
       "      <td>Lvl</td>\n",
       "      <td>AllPub</td>\n",
       "      <td>...</td>\n",
       "      <td>0</td>\n",
       "      <td>NaN</td>\n",
       "      <td>NaN</td>\n",
       "      <td>NaN</td>\n",
       "      <td>0</td>\n",
       "      <td>2</td>\n",
       "      <td>2006</td>\n",
       "      <td>WD</td>\n",
       "      <td>Abnorml</td>\n",
       "      <td>140000</td>\n",
       "    </tr>\n",
       "    <tr>\n",
       "      <th>4</th>\n",
       "      <td>5</td>\n",
       "      <td>60</td>\n",
       "      <td>RL</td>\n",
       "      <td>84.0</td>\n",
       "      <td>14260</td>\n",
       "      <td>Pave</td>\n",
       "      <td>NaN</td>\n",
       "      <td>IR1</td>\n",
       "      <td>Lvl</td>\n",
       "      <td>AllPub</td>\n",
       "      <td>...</td>\n",
       "      <td>0</td>\n",
       "      <td>NaN</td>\n",
       "      <td>NaN</td>\n",
       "      <td>NaN</td>\n",
       "      <td>0</td>\n",
       "      <td>12</td>\n",
       "      <td>2008</td>\n",
       "      <td>WD</td>\n",
       "      <td>Normal</td>\n",
       "      <td>250000</td>\n",
       "    </tr>\n",
       "  </tbody>\n",
       "</table>\n",
       "<p>5 rows × 81 columns</p>\n",
       "</div>"
      ],
      "text/plain": [
       "   Id  MSSubClass MSZoning  LotFrontage  LotArea Street Alley LotShape  \\\n",
       "0   1          60       RL         65.0     8450   Pave   NaN      Reg   \n",
       "1   2          20       RL         80.0     9600   Pave   NaN      Reg   \n",
       "2   3          60       RL         68.0    11250   Pave   NaN      IR1   \n",
       "3   4          70       RL         60.0     9550   Pave   NaN      IR1   \n",
       "4   5          60       RL         84.0    14260   Pave   NaN      IR1   \n",
       "\n",
       "  LandContour Utilities  ... PoolArea PoolQC Fence MiscFeature MiscVal MoSold  \\\n",
       "0         Lvl    AllPub  ...        0    NaN   NaN         NaN       0      2   \n",
       "1         Lvl    AllPub  ...        0    NaN   NaN         NaN       0      5   \n",
       "2         Lvl    AllPub  ...        0    NaN   NaN         NaN       0      9   \n",
       "3         Lvl    AllPub  ...        0    NaN   NaN         NaN       0      2   \n",
       "4         Lvl    AllPub  ...        0    NaN   NaN         NaN       0     12   \n",
       "\n",
       "  YrSold  SaleType  SaleCondition  SalePrice  \n",
       "0   2008        WD         Normal     208500  \n",
       "1   2007        WD         Normal     181500  \n",
       "2   2008        WD         Normal     223500  \n",
       "3   2006        WD        Abnorml     140000  \n",
       "4   2008        WD         Normal     250000  \n",
       "\n",
       "[5 rows x 81 columns]"
      ]
     },
     "execution_count": 117,
     "metadata": {},
     "output_type": "execute_result"
    }
   ],
   "source": [
    "df.head()"
   ]
  },
  {
   "cell_type": "code",
   "execution_count": 118,
   "metadata": {},
   "outputs": [],
   "source": [
    "main_df = df[['Id', \"SalePrice\", \"OverallQual\", \"OverallCond\", \"LotArea\", \"YearBuilt\", \"Street\", \"LotShape\"]]"
   ]
  },
  {
   "cell_type": "code",
   "execution_count": 119,
   "metadata": {},
   "outputs": [
    {
     "data": {
      "text/html": [
       "<div>\n",
       "<style scoped>\n",
       "    .dataframe tbody tr th:only-of-type {\n",
       "        vertical-align: middle;\n",
       "    }\n",
       "\n",
       "    .dataframe tbody tr th {\n",
       "        vertical-align: top;\n",
       "    }\n",
       "\n",
       "    .dataframe thead th {\n",
       "        text-align: right;\n",
       "    }\n",
       "</style>\n",
       "<table border=\"1\" class=\"dataframe\">\n",
       "  <thead>\n",
       "    <tr style=\"text-align: right;\">\n",
       "      <th></th>\n",
       "      <th>Id</th>\n",
       "      <th>SalePrice</th>\n",
       "      <th>OverallQual</th>\n",
       "      <th>OverallCond</th>\n",
       "      <th>LotArea</th>\n",
       "      <th>YearBuilt</th>\n",
       "      <th>Street</th>\n",
       "      <th>LotShape</th>\n",
       "    </tr>\n",
       "  </thead>\n",
       "  <tbody>\n",
       "    <tr>\n",
       "      <th>0</th>\n",
       "      <td>1</td>\n",
       "      <td>208500</td>\n",
       "      <td>7</td>\n",
       "      <td>5</td>\n",
       "      <td>8450</td>\n",
       "      <td>2003</td>\n",
       "      <td>Pave</td>\n",
       "      <td>Reg</td>\n",
       "    </tr>\n",
       "    <tr>\n",
       "      <th>1</th>\n",
       "      <td>2</td>\n",
       "      <td>181500</td>\n",
       "      <td>6</td>\n",
       "      <td>8</td>\n",
       "      <td>9600</td>\n",
       "      <td>1976</td>\n",
       "      <td>Pave</td>\n",
       "      <td>Reg</td>\n",
       "    </tr>\n",
       "    <tr>\n",
       "      <th>2</th>\n",
       "      <td>3</td>\n",
       "      <td>223500</td>\n",
       "      <td>7</td>\n",
       "      <td>5</td>\n",
       "      <td>11250</td>\n",
       "      <td>2001</td>\n",
       "      <td>Pave</td>\n",
       "      <td>IR1</td>\n",
       "    </tr>\n",
       "    <tr>\n",
       "      <th>3</th>\n",
       "      <td>4</td>\n",
       "      <td>140000</td>\n",
       "      <td>7</td>\n",
       "      <td>5</td>\n",
       "      <td>9550</td>\n",
       "      <td>1915</td>\n",
       "      <td>Pave</td>\n",
       "      <td>IR1</td>\n",
       "    </tr>\n",
       "    <tr>\n",
       "      <th>4</th>\n",
       "      <td>5</td>\n",
       "      <td>250000</td>\n",
       "      <td>8</td>\n",
       "      <td>5</td>\n",
       "      <td>14260</td>\n",
       "      <td>2000</td>\n",
       "      <td>Pave</td>\n",
       "      <td>IR1</td>\n",
       "    </tr>\n",
       "  </tbody>\n",
       "</table>\n",
       "</div>"
      ],
      "text/plain": [
       "   Id  SalePrice  OverallQual  OverallCond  LotArea  YearBuilt Street LotShape\n",
       "0   1     208500            7            5     8450       2003   Pave      Reg\n",
       "1   2     181500            6            8     9600       1976   Pave      Reg\n",
       "2   3     223500            7            5    11250       2001   Pave      IR1\n",
       "3   4     140000            7            5     9550       1915   Pave      IR1\n",
       "4   5     250000            8            5    14260       2000   Pave      IR1"
      ]
     },
     "execution_count": 119,
     "metadata": {},
     "output_type": "execute_result"
    }
   ],
   "source": [
    "main_df.head()"
   ]
  },
  {
   "cell_type": "markdown",
   "metadata": {},
   "source": [
    "### Analysis"
   ]
  },
  {
   "cell_type": "code",
   "execution_count": 120,
   "metadata": {},
   "outputs": [
    {
     "data": {
      "text/plain": [
       "(array([148., 723., 373., 135.,  51.,  19.,   4.,   3.,   2.,   2.]),\n",
       " array([ 34900., 106910., 178920., 250930., 322940., 394950., 466960.,\n",
       "        538970., 610980., 682990., 755000.]),\n",
       " <a list of 10 Patch objects>)"
      ]
     },
     "execution_count": 120,
     "metadata": {},
     "output_type": "execute_result"
    },
    {
     "data": {
      "image/png": "[encoded data removed]",
      "text/plain": [
       "<Figure size 432x288 with 1 Axes>"
      ]
     },
     "metadata": {
      "needs_background": "light"
     },
     "output_type": "display_data"
    }
   ],
   "source": [
    "plt.hist(main_df[\"SalePrice\"])"
   ]
  },
  {
   "cell_type": "code",
   "execution_count": 121,
   "metadata": {},
   "outputs": [
    {
     "data": {
      "text/plain": [
       "(array([  2.,   3.,  20., 116., 397., 374., 319., 168.,  43.,  18.]),\n",
       " array([ 1. ,  1.9,  2.8,  3.7,  4.6,  5.5,  6.4,  7.3,  8.2,  9.1, 10. ]),\n",
       " <a list of 10 Patch objects>)"
      ]
     },
     "execution_count": 121,
     "metadata": {},
     "output_type": "execute_result"
    },
    {
     "data": {
      "image/png": "[encoded data removed]",
      "text/plain": [
       "<Figure size 432x288 with 1 Axes>"
      ]
     },
     "metadata": {
      "needs_background": "light"
     },
     "output_type": "display_data"
    }
   ],
   "source": [
    "plt.hist(main_df[\"OverallQual\"])"
   ]
  },
  {
   "cell_type": "code",
   "execution_count": 122,
   "metadata": {},
   "outputs": [
    {
     "data": {
      "text/plain": [
       "Id            -0.021917\n",
       "SalePrice      1.000000\n",
       "OverallQual    0.790982\n",
       "OverallCond   -0.077856\n",
       "LotArea        0.263843\n",
       "YearBuilt      0.522897\n",
       "Name: SalePrice, dtype: float64"
      ]
     },
     "execution_count": 122,
     "metadata": {},
     "output_type": "execute_result"
    }
   ],
   "source": [
    "main_df.corr()[\"SalePrice\"]"
   ]
  },
  {
   "cell_type": "code",
   "execution_count": 123,
   "metadata": {},
   "outputs": [],
   "source": [
    "main_df = main_df.drop([\"Id\", \"OverallCond\", \"Street\"], axis = 1)"
   ]
  },
  {
   "cell_type": "markdown",
   "metadata": {},
   "source": [
    "### CatBoost"
   ]
  },
  {
   "cell_type": "code",
   "execution_count": 124,
   "metadata": {},
   "outputs": [],
   "source": [
    "X = main_df.drop([\"SalePrice\"], axis = 1)\n",
    "y = main_df[[\"SalePrice\"]]"
   ]
  },
  {
   "cell_type": "code",
   "execution_count": 125,
   "metadata": {},
   "outputs": [],
   "source": [
    "X_train, X_test, y_train, y_test = train_test_split(X, y, test_size=0.2, random_state = 0)"
   ]
  },
  {
   "cell_type": "code",
   "execution_count": 128,
   "metadata": {},
   "outputs": [],
   "source": [
    "category = [\"OverallQual\", \"YearBuilt\", \"LotShape\"]"
   ]
  },
  {
   "cell_type": "code",
   "execution_count": 129,
   "metadata": {},
   "outputs": [
    {
     "name": "stdout",
     "output_type": "stream",
     "text": [
      "0:\tlearn: 73685.7880002\ttotal: 2.24ms\tremaining: 110ms\n",
      "1:\tlearn: 69840.2873352\ttotal: 5.73ms\tremaining: 138ms\n",
      "2:\tlearn: 66045.5563709\ttotal: 6.96ms\tremaining: 109ms\n",
      "3:\tlearn: 63100.1025794\ttotal: 8.55ms\tremaining: 98.4ms\n",
      "4:\tlearn: 60452.5529836\ttotal: 11.4ms\tremaining: 102ms\n",
      "5:\tlearn: 58450.9136815\ttotal: 13.5ms\tremaining: 99.3ms\n",
      "6:\tlearn: 56416.5608633\ttotal: 15.5ms\tremaining: 95.2ms\n",
      "7:\tlearn: 54232.9562764\ttotal: 16.9ms\tremaining: 88.8ms\n",
      "8:\tlearn: 52648.7150539\ttotal: 17.9ms\tremaining: 81.7ms\n",
      "9:\tlearn: 51418.2898697\ttotal: 19.4ms\tremaining: 77.6ms\n",
      "10:\tlearn: 50318.1461622\ttotal: 21.3ms\tremaining: 75.5ms\n",
      "11:\tlearn: 49409.8341981\ttotal: 22.8ms\tremaining: 72.2ms\n",
      "12:\tlearn: 48385.5829578\ttotal: 24ms\tremaining: 68.2ms\n",
      "13:\tlearn: 47240.6505677\ttotal: 25.8ms\tremaining: 66.2ms\n",
      "14:\tlearn: 46249.3595050\ttotal: 27.7ms\tremaining: 64.5ms\n",
      "15:\tlearn: 45514.2907926\ttotal: 28.7ms\tremaining: 61ms\n",
      "16:\tlearn: 44725.7095240\ttotal: 29.9ms\tremaining: 58ms\n",
      "17:\tlearn: 44108.7812573\ttotal: 30.9ms\tremaining: 55ms\n",
      "18:\tlearn: 43551.7994504\ttotal: 31.9ms\tremaining: 52.1ms\n",
      "19:\tlearn: 43140.1963168\ttotal: 33ms\tremaining: 49.5ms\n",
      "20:\tlearn: 42679.9027596\ttotal: 34.2ms\tremaining: 47.3ms\n",
      "21:\tlearn: 42246.2538154\ttotal: 35.2ms\tremaining: 44.8ms\n",
      "22:\tlearn: 42050.4290272\ttotal: 38.9ms\tremaining: 45.7ms\n",
      "23:\tlearn: 41862.0530142\ttotal: 40.5ms\tremaining: 43.9ms\n",
      "24:\tlearn: 41463.8013242\ttotal: 42.2ms\tremaining: 42.2ms\n",
      "25:\tlearn: 41042.5871042\ttotal: 43.3ms\tremaining: 39.9ms\n",
      "26:\tlearn: 40812.7037358\ttotal: 44.9ms\tremaining: 38.2ms\n",
      "27:\tlearn: 40592.1777337\ttotal: 46.7ms\tremaining: 36.7ms\n",
      "28:\tlearn: 40395.1723591\ttotal: 48ms\tremaining: 34.7ms\n",
      "29:\tlearn: 40239.4437711\ttotal: 49.3ms\tremaining: 32.9ms\n",
      "30:\tlearn: 39978.3399614\ttotal: 50.9ms\tremaining: 31.2ms\n",
      "31:\tlearn: 39863.6107158\ttotal: 52.4ms\tremaining: 29.5ms\n",
      "32:\tlearn: 39713.7297982\ttotal: 55.8ms\tremaining: 28.7ms\n",
      "33:\tlearn: 39510.0170640\ttotal: 56.9ms\tremaining: 26.8ms\n",
      "34:\tlearn: 39352.9387623\ttotal: 58ms\tremaining: 24.8ms\n",
      "35:\tlearn: 39259.1508127\ttotal: 59.2ms\tremaining: 23ms\n",
      "36:\tlearn: 39131.4958612\ttotal: 59.9ms\tremaining: 21ms\n",
      "37:\tlearn: 39056.0827456\ttotal: 60.5ms\tremaining: 19.1ms\n",
      "38:\tlearn: 38961.0170250\ttotal: 61.4ms\tremaining: 17.3ms\n",
      "39:\tlearn: 38869.4178572\ttotal: 62.1ms\tremaining: 15.5ms\n",
      "40:\tlearn: 38746.5052540\ttotal: 63ms\tremaining: 13.8ms\n",
      "41:\tlearn: 38692.6821127\ttotal: 63.7ms\tremaining: 12.1ms\n",
      "42:\tlearn: 38600.7531522\ttotal: 64.9ms\tremaining: 10.6ms\n",
      "43:\tlearn: 38469.8075895\ttotal: 66ms\tremaining: 9ms\n",
      "44:\tlearn: 38335.4442327\ttotal: 67.2ms\tremaining: 7.47ms\n",
      "45:\tlearn: 38241.7072872\ttotal: 68.5ms\tremaining: 5.96ms\n",
      "46:\tlearn: 38197.7323707\ttotal: 69.4ms\tremaining: 4.43ms\n",
      "47:\tlearn: 38144.0228411\ttotal: 72.4ms\tremaining: 3.02ms\n",
      "48:\tlearn: 38080.1177022\ttotal: 73.5ms\tremaining: 1.5ms\n",
      "49:\tlearn: 38046.8124873\ttotal: 74.7ms\tremaining: 0us\n"
     ]
    },
    {
     "data": {
      "text/plain": [
       "<catboost.core.CatBoostRegressor at 0x1a29653690>"
      ]
     },
     "execution_count": 129,
     "metadata": {},
     "output_type": "execute_result"
    }
   ],
   "source": [
    "cat_boost = CatBoostRegressor(iterations=50, depth=3, learning_rate=0.1, loss_function='RMSE')\n",
    "cat_boost.fit(X_train, y_train, cat_features=category)"
   ]
  },
  {
   "cell_type": "code",
   "execution_count": 130,
   "metadata": {},
   "outputs": [],
   "source": [
    "y_pred = cat_boost.predict(X_test)"
   ]
  },
  {
   "cell_type": "code",
   "execution_count": 131,
   "metadata": {},
   "outputs": [
    {
     "data": {
      "text/html": [
       "<div>\n",
       "<style scoped>\n",
       "    .dataframe tbody tr th:only-of-type {\n",
       "        vertical-align: middle;\n",
       "    }\n",
       "\n",
       "    .dataframe tbody tr th {\n",
       "        vertical-align: top;\n",
       "    }\n",
       "\n",
       "    .dataframe thead th {\n",
       "        text-align: right;\n",
       "    }\n",
       "</style>\n",
       "<table border=\"1\" class=\"dataframe\">\n",
       "  <thead>\n",
       "    <tr style=\"text-align: right;\">\n",
       "      <th></th>\n",
       "      <th>Actual</th>\n",
       "      <th>Predicted</th>\n",
       "    </tr>\n",
       "  </thead>\n",
       "  <tbody>\n",
       "    <tr>\n",
       "      <th>0</th>\n",
       "      <td>200624</td>\n",
       "      <td>201446.915308</td>\n",
       "    </tr>\n",
       "    <tr>\n",
       "      <th>1</th>\n",
       "      <td>133000</td>\n",
       "      <td>150251.991458</td>\n",
       "    </tr>\n",
       "    <tr>\n",
       "      <th>2</th>\n",
       "      <td>110000</td>\n",
       "      <td>128835.407885</td>\n",
       "    </tr>\n",
       "    <tr>\n",
       "      <th>3</th>\n",
       "      <td>192000</td>\n",
       "      <td>203508.306434</td>\n",
       "    </tr>\n",
       "    <tr>\n",
       "      <th>4</th>\n",
       "      <td>88000</td>\n",
       "      <td>125805.223563</td>\n",
       "    </tr>\n",
       "  </tbody>\n",
       "</table>\n",
       "</div>"
      ],
      "text/plain": [
       "   Actual      Predicted\n",
       "0  200624  201446.915308\n",
       "1  133000  150251.991458\n",
       "2  110000  128835.407885\n",
       "3  192000  203508.306434\n",
       "4   88000  125805.223563"
      ]
     },
     "execution_count": 131,
     "metadata": {},
     "output_type": "execute_result"
    }
   ],
   "source": [
    "#Results using regressor\n",
    "df = pd.DataFrame({'Actual': y_test[\"SalePrice\"].to_list(), 'Predicted': list(y_pred.flatten())})\n",
    "df.head()"
   ]
  },
  {
   "cell_type": "code",
   "execution_count": 132,
   "metadata": {},
   "outputs": [
    {
     "data": {
      "text/plain": [
       "45140.33553932125"
      ]
     },
     "execution_count": 132,
     "metadata": {},
     "output_type": "execute_result"
    }
   ],
   "source": [
    "## We should also look at RMSE\n",
    "rmse = sqrt(mean_squared_error(y_test, y_pred))\n",
    "rmse"
   ]
  },
  {
   "cell_type": "code",
   "execution_count": 133,
   "metadata": {},
   "outputs": [
    {
     "data": {
      "text/plain": [
       "0.06657866598719948"
      ]
     },
     "execution_count": 133,
     "metadata": {},
     "output_type": "execute_result"
    }
   ],
   "source": [
    "## Normalised RMSE\n",
    "sqrt(mean_squared_error(y_test, y_pred)) / (y_test[\"SalePrice\"].max() - y_test[\"SalePrice\"].min())"
   ]
  },
  {
   "cell_type": "code",
   "execution_count": 134,
   "metadata": {},
   "outputs": [
    {
     "data": {
      "text/plain": [
       "array(['OverallQual', 'LotArea', 'YearBuilt', 'LotShape'], dtype=object)"
      ]
     },
     "execution_count": 134,
     "metadata": {},
     "output_type": "execute_result"
    }
   ],
   "source": [
    "main_df.drop([\"SalePrice\"], axis = 1).columns.values"
   ]
  },
  {
   "cell_type": "code",
   "execution_count": 135,
   "metadata": {},
   "outputs": [
    {
     "data": {
      "text/html": [
       "[76.95991136103147, 18.75558088809967, 3.0246606935231912, 1.2598470573456726]"
      ],
      "text/plain": [
       "[76.95991136103147, 18.75558088809967, 3.0246606935231912, 1.2598470573456726]"
      ]
     },
     "execution_count": 135,
     "metadata": {},
     "output_type": "execute_result"
    }
   ],
   "source": [
    "list(cat_boost.get_feature_importance(Pool(X_test, label = y_test, cat_features=category)))"
   ]
  },
  {
   "cell_type": "markdown",
   "metadata": {},
   "source": [
    "#### Overall Qual is largest predictor, with LotArea being very important as well"
   ]
  },
  {
   "cell_type": "markdown",
   "metadata": {},
   "source": [
    "#### We took out cond and street since it did not impact very much"
   ]
  },
  {
   "cell_type": "code",
   "execution_count": null,
   "metadata": {},
   "outputs": [],
   "source": []
  }
 ],
 "metadata": {
  "kernelspec": {
   "display_name": "Python 3",
   "language": "python",
   "name": "python3"
  },
  "language_info": {
   "codemirror_mode": {
    "name": "ipython",
    "version": 3
   },
   "file_extension": ".py",
   "mimetype": "text/x-python",
   "name": "python",
   "nbconvert_exporter": "python",
   "pygments_lexer": "ipython3",
   "version": "3.7.6"
  }
 },
 "nbformat": 4,
 "nbformat_minor": 4
}
