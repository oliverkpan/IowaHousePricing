{
 "cells": [
  {
   "cell_type": "markdown",
   "metadata": {},
   "source": [
    "# Analysing the basement data to predict house prices\n",
    "\n",
    "### Pre-process data"
   ]
  },
  {
   "cell_type": "code",
   "execution_count": 91,
   "metadata": {},
   "outputs": [],
   "source": [
    "#Import required libraries\n",
    "import pandas as pd\n",
    "import matplotlib.pyplot as plt\n",
    "import numpy as np\n",
    "import seaborn as sns"
   ]
  },
  {
   "cell_type": "code",
   "execution_count": 92,
   "metadata": {},
   "outputs": [],
   "source": [
    "from sklearn.model_selection import train_test_split \n",
    "from sklearn import metrics\n",
    "\n",
    "from catboost import CatBoostRegressor, Pool\n",
    "\n",
    "from sklearn.metrics import mean_squared_error\n",
    "from math import sqrt"
   ]
  },
  {
   "cell_type": "code",
   "execution_count": 93,
   "metadata": {},
   "outputs": [],
   "source": [
    "data = r'/Users/OliverPan/Desktop/house/train.csv'"
   ]
  },
  {
   "cell_type": "code",
   "execution_count": 94,
   "metadata": {},
   "outputs": [],
   "source": [
    "df = pd.read_csv(data)"
   ]
  },
  {
   "cell_type": "code",
   "execution_count": 95,
   "metadata": {},
   "outputs": [
    {
     "data": {
      "text/html": [
       "<div>\n",
       "<style scoped>\n",
       "    .dataframe tbody tr th:only-of-type {\n",
       "        vertical-align: middle;\n",
       "    }\n",
       "\n",
       "    .dataframe tbody tr th {\n",
       "        vertical-align: top;\n",
       "    }\n",
       "\n",
       "    .dataframe thead th {\n",
       "        text-align: right;\n",
       "    }\n",
       "</style>\n",
       "<table border=\"1\" class=\"dataframe\">\n",
       "  <thead>\n",
       "    <tr style=\"text-align: right;\">\n",
       "      <th></th>\n",
       "      <th>Id</th>\n",
       "      <th>MSSubClass</th>\n",
       "      <th>MSZoning</th>\n",
       "      <th>LotFrontage</th>\n",
       "      <th>LotArea</th>\n",
       "      <th>Street</th>\n",
       "      <th>Alley</th>\n",
       "      <th>LotShape</th>\n",
       "      <th>LandContour</th>\n",
       "      <th>Utilities</th>\n",
       "      <th>...</th>\n",
       "      <th>PoolArea</th>\n",
       "      <th>PoolQC</th>\n",
       "      <th>Fence</th>\n",
       "      <th>MiscFeature</th>\n",
       "      <th>MiscVal</th>\n",
       "      <th>MoSold</th>\n",
       "      <th>YrSold</th>\n",
       "      <th>SaleType</th>\n",
       "      <th>SaleCondition</th>\n",
       "      <th>SalePrice</th>\n",
       "    </tr>\n",
       "  </thead>\n",
       "  <tbody>\n",
       "    <tr>\n",
       "      <th>0</th>\n",
       "      <td>1</td>\n",
       "      <td>60</td>\n",
       "      <td>RL</td>\n",
       "      <td>65.0</td>\n",
       "      <td>8450</td>\n",
       "      <td>Pave</td>\n",
       "      <td>NaN</td>\n",
       "      <td>Reg</td>\n",
       "      <td>Lvl</td>\n",
       "      <td>AllPub</td>\n",
       "      <td>...</td>\n",
       "      <td>0</td>\n",
       "      <td>NaN</td>\n",
       "      <td>NaN</td>\n",
       "      <td>NaN</td>\n",
       "      <td>0</td>\n",
       "      <td>2</td>\n",
       "      <td>2008</td>\n",
       "      <td>WD</td>\n",
       "      <td>Normal</td>\n",
       "      <td>208500</td>\n",
       "    </tr>\n",
       "    <tr>\n",
       "      <th>1</th>\n",
       "      <td>2</td>\n",
       "      <td>20</td>\n",
       "      <td>RL</td>\n",
       "      <td>80.0</td>\n",
       "      <td>9600</td>\n",
       "      <td>Pave</td>\n",
       "      <td>NaN</td>\n",
       "      <td>Reg</td>\n",
       "      <td>Lvl</td>\n",
       "      <td>AllPub</td>\n",
       "      <td>...</td>\n",
       "      <td>0</td>\n",
       "      <td>NaN</td>\n",
       "      <td>NaN</td>\n",
       "      <td>NaN</td>\n",
       "      <td>0</td>\n",
       "      <td>5</td>\n",
       "      <td>2007</td>\n",
       "      <td>WD</td>\n",
       "      <td>Normal</td>\n",
       "      <td>181500</td>\n",
       "    </tr>\n",
       "    <tr>\n",
       "      <th>2</th>\n",
       "      <td>3</td>\n",
       "      <td>60</td>\n",
       "      <td>RL</td>\n",
       "      <td>68.0</td>\n",
       "      <td>11250</td>\n",
       "      <td>Pave</td>\n",
       "      <td>NaN</td>\n",
       "      <td>IR1</td>\n",
       "      <td>Lvl</td>\n",
       "      <td>AllPub</td>\n",
       "      <td>...</td>\n",
       "      <td>0</td>\n",
       "      <td>NaN</td>\n",
       "      <td>NaN</td>\n",
       "      <td>NaN</td>\n",
       "      <td>0</td>\n",
       "      <td>9</td>\n",
       "      <td>2008</td>\n",
       "      <td>WD</td>\n",
       "      <td>Normal</td>\n",
       "      <td>223500</td>\n",
       "    </tr>\n",
       "    <tr>\n",
       "      <th>3</th>\n",
       "      <td>4</td>\n",
       "      <td>70</td>\n",
       "      <td>RL</td>\n",
       "      <td>60.0</td>\n",
       "      <td>9550</td>\n",
       "      <td>Pave</td>\n",
       "      <td>NaN</td>\n",
       "      <td>IR1</td>\n",
       "      <td>Lvl</td>\n",
       "      <td>AllPub</td>\n",
       "      <td>...</td>\n",
       "      <td>0</td>\n",
       "      <td>NaN</td>\n",
       "      <td>NaN</td>\n",
       "      <td>NaN</td>\n",
       "      <td>0</td>\n",
       "      <td>2</td>\n",
       "      <td>2006</td>\n",
       "      <td>WD</td>\n",
       "      <td>Abnorml</td>\n",
       "      <td>140000</td>\n",
       "    </tr>\n",
       "    <tr>\n",
       "      <th>4</th>\n",
       "      <td>5</td>\n",
       "      <td>60</td>\n",
       "      <td>RL</td>\n",
       "      <td>84.0</td>\n",
       "      <td>14260</td>\n",
       "      <td>Pave</td>\n",
       "      <td>NaN</td>\n",
       "      <td>IR1</td>\n",
       "      <td>Lvl</td>\n",
       "      <td>AllPub</td>\n",
       "      <td>...</td>\n",
       "      <td>0</td>\n",
       "      <td>NaN</td>\n",
       "      <td>NaN</td>\n",
       "      <td>NaN</td>\n",
       "      <td>0</td>\n",
       "      <td>12</td>\n",
       "      <td>2008</td>\n",
       "      <td>WD</td>\n",
       "      <td>Normal</td>\n",
       "      <td>250000</td>\n",
       "    </tr>\n",
       "  </tbody>\n",
       "</table>\n",
       "<p>5 rows × 81 columns</p>\n",
       "</div>"
      ],
      "text/plain": [
       "   Id  MSSubClass MSZoning  LotFrontage  LotArea Street Alley LotShape  \\\n",
       "0   1          60       RL         65.0     8450   Pave   NaN      Reg   \n",
       "1   2          20       RL         80.0     9600   Pave   NaN      Reg   \n",
       "2   3          60       RL         68.0    11250   Pave   NaN      IR1   \n",
       "3   4          70       RL         60.0     9550   Pave   NaN      IR1   \n",
       "4   5          60       RL         84.0    14260   Pave   NaN      IR1   \n",
       "\n",
       "  LandContour Utilities  ... PoolArea PoolQC Fence MiscFeature MiscVal MoSold  \\\n",
       "0         Lvl    AllPub  ...        0    NaN   NaN         NaN       0      2   \n",
       "1         Lvl    AllPub  ...        0    NaN   NaN         NaN       0      5   \n",
       "2         Lvl    AllPub  ...        0    NaN   NaN         NaN       0      9   \n",
       "3         Lvl    AllPub  ...        0    NaN   NaN         NaN       0      2   \n",
       "4         Lvl    AllPub  ...        0    NaN   NaN         NaN       0     12   \n",
       "\n",
       "  YrSold  SaleType  SaleCondition  SalePrice  \n",
       "0   2008        WD         Normal     208500  \n",
       "1   2007        WD         Normal     181500  \n",
       "2   2008        WD         Normal     223500  \n",
       "3   2006        WD        Abnorml     140000  \n",
       "4   2008        WD         Normal     250000  \n",
       "\n",
       "[5 rows x 81 columns]"
      ]
     },
     "execution_count": 95,
     "metadata": {},
     "output_type": "execute_result"
    }
   ],
   "source": [
    "df.head()"
   ]
  },
  {
   "cell_type": "code",
   "execution_count": 96,
   "metadata": {},
   "outputs": [],
   "source": [
    "main_df = df[['Id', \"SalePrice\", \"OverallQual\", \"OverallCond\", \"LotArea\", \"YearBuilt\", \"Street\", \"LotShape\"]]"
   ]
  },
  {
   "cell_type": "code",
   "execution_count": 97,
   "metadata": {},
   "outputs": [
    {
     "data": {
      "text/html": [
       "<div>\n",
       "<style scoped>\n",
       "    .dataframe tbody tr th:only-of-type {\n",
       "        vertical-align: middle;\n",
       "    }\n",
       "\n",
       "    .dataframe tbody tr th {\n",
       "        vertical-align: top;\n",
       "    }\n",
       "\n",
       "    .dataframe thead th {\n",
       "        text-align: right;\n",
       "    }\n",
       "</style>\n",
       "<table border=\"1\" class=\"dataframe\">\n",
       "  <thead>\n",
       "    <tr style=\"text-align: right;\">\n",
       "      <th></th>\n",
       "      <th>Id</th>\n",
       "      <th>SalePrice</th>\n",
       "      <th>OverallQual</th>\n",
       "      <th>OverallCond</th>\n",
       "      <th>LotArea</th>\n",
       "      <th>YearBuilt</th>\n",
       "      <th>Street</th>\n",
       "      <th>LotShape</th>\n",
       "    </tr>\n",
       "  </thead>\n",
       "  <tbody>\n",
       "    <tr>\n",
       "      <th>0</th>\n",
       "      <td>1</td>\n",
       "      <td>208500</td>\n",
       "      <td>7</td>\n",
       "      <td>5</td>\n",
       "      <td>8450</td>\n",
       "      <td>2003</td>\n",
       "      <td>Pave</td>\n",
       "      <td>Reg</td>\n",
       "    </tr>\n",
       "    <tr>\n",
       "      <th>1</th>\n",
       "      <td>2</td>\n",
       "      <td>181500</td>\n",
       "      <td>6</td>\n",
       "      <td>8</td>\n",
       "      <td>9600</td>\n",
       "      <td>1976</td>\n",
       "      <td>Pave</td>\n",
       "      <td>Reg</td>\n",
       "    </tr>\n",
       "    <tr>\n",
       "      <th>2</th>\n",
       "      <td>3</td>\n",
       "      <td>223500</td>\n",
       "      <td>7</td>\n",
       "      <td>5</td>\n",
       "      <td>11250</td>\n",
       "      <td>2001</td>\n",
       "      <td>Pave</td>\n",
       "      <td>IR1</td>\n",
       "    </tr>\n",
       "    <tr>\n",
       "      <th>3</th>\n",
       "      <td>4</td>\n",
       "      <td>140000</td>\n",
       "      <td>7</td>\n",
       "      <td>5</td>\n",
       "      <td>9550</td>\n",
       "      <td>1915</td>\n",
       "      <td>Pave</td>\n",
       "      <td>IR1</td>\n",
       "    </tr>\n",
       "    <tr>\n",
       "      <th>4</th>\n",
       "      <td>5</td>\n",
       "      <td>250000</td>\n",
       "      <td>8</td>\n",
       "      <td>5</td>\n",
       "      <td>14260</td>\n",
       "      <td>2000</td>\n",
       "      <td>Pave</td>\n",
       "      <td>IR1</td>\n",
       "    </tr>\n",
       "  </tbody>\n",
       "</table>\n",
       "</div>"
      ],
      "text/plain": [
       "   Id  SalePrice  OverallQual  OverallCond  LotArea  YearBuilt Street LotShape\n",
       "0   1     208500            7            5     8450       2003   Pave      Reg\n",
       "1   2     181500            6            8     9600       1976   Pave      Reg\n",
       "2   3     223500            7            5    11250       2001   Pave      IR1\n",
       "3   4     140000            7            5     9550       1915   Pave      IR1\n",
       "4   5     250000            8            5    14260       2000   Pave      IR1"
      ]
     },
     "execution_count": 97,
     "metadata": {},
     "output_type": "execute_result"
    }
   ],
   "source": [
    "main_df.head()"
   ]
  },
  {
   "cell_type": "markdown",
   "metadata": {},
   "source": [
    "### Analysis"
   ]
  },
  {
   "cell_type": "code",
   "execution_count": 98,
   "metadata": {},
   "outputs": [
    {
     "data": {
      "text/plain": [
       "(array([148., 723., 373., 135.,  51.,  19.,   4.,   3.,   2.,   2.]),\n",
       " array([ 34900., 106910., 178920., 250930., 322940., 394950., 466960.,\n",
       "        538970., 610980., 682990., 755000.]),\n",
       " <a list of 10 Patch objects>)"
      ]
     },
     "execution_count": 98,
     "metadata": {},
     "output_type": "execute_result"
    },
    {
     "data": {
      "image/png": "[encoded data removed]",
      "text/plain": [
       "<Figure size 432x288 with 1 Axes>"
      ]
     },
     "metadata": {
      "needs_background": "light"
     },
     "output_type": "display_data"
    }
   ],
   "source": [
    "plt.hist(main_df[\"SalePrice\"])"
   ]
  },
  {
   "cell_type": "code",
   "execution_count": 99,
   "metadata": {},
   "outputs": [
    {
     "data": {
      "text/plain": [
       "(array([  2.,   3.,  20., 116., 397., 374., 319., 168.,  43.,  18.]),\n",
       " array([ 1. ,  1.9,  2.8,  3.7,  4.6,  5.5,  6.4,  7.3,  8.2,  9.1, 10. ]),\n",
       " <a list of 10 Patch objects>)"
      ]
     },
     "execution_count": 99,
     "metadata": {},
     "output_type": "execute_result"
    },
    {
     "data": {
      "image/png": "[encoded data removed]",
      "text/plain": [
       "<Figure size 432x288 with 1 Axes>"
      ]
     },
     "metadata": {
      "needs_background": "light"
     },
     "output_type": "display_data"
    }
   ],
   "source": [
    "plt.hist(main_df[\"OverallQual\"])"
   ]
  },
  {
   "cell_type": "code",
   "execution_count": 100,
   "metadata": {},
   "outputs": [
    {
     "data": {
      "text/plain": [
       "Id            -0.021917\n",
       "SalePrice      1.000000\n",
       "OverallQual    0.790982\n",
       "OverallCond   -0.077856\n",
       "LotArea        0.263843\n",
       "YearBuilt      0.522897\n",
       "Name: SalePrice, dtype: float64"
      ]
     },
     "execution_count": 100,
     "metadata": {},
     "output_type": "execute_result"
    }
   ],
   "source": [
    "main_df.corr()[\"SalePrice\"]"
   ]
  },
  {
   "cell_type": "code",
   "execution_count": 101,
   "metadata": {},
   "outputs": [],
   "source": [
    "main_df = main_df.drop([\"Id\"], axis = 1)"
   ]
  },
  {
   "cell_type": "markdown",
   "metadata": {},
   "source": [
    "### CatBoost"
   ]
  },
  {
   "cell_type": "code",
   "execution_count": 102,
   "metadata": {},
   "outputs": [],
   "source": [
    "X = main_df.drop([\"SalePrice\"], axis = 1)\n",
    "y = main_df[[\"SalePrice\"]]"
   ]
  },
  {
   "cell_type": "code",
   "execution_count": 103,
   "metadata": {},
   "outputs": [],
   "source": [
    "X_train, X_test, y_train, y_test = train_test_split(X, y, test_size=0.2, random_state = 0)"
   ]
  },
  {
   "cell_type": "code",
   "execution_count": 104,
   "metadata": {},
   "outputs": [],
   "source": [
    "category = [\"OverallQual\", \"OverallCond\", \"YearBuilt\", \"Street\", \"LotShape\"]"
   ]
  },
  {
   "cell_type": "code",
   "execution_count": 105,
   "metadata": {},
   "outputs": [
    {
     "name": "stdout",
     "output_type": "stream",
     "text": [
      "0:\tlearn: 74545.4246818\ttotal: 1.56ms\tremaining: 76.7ms\n",
      "1:\tlearn: 70922.0986641\ttotal: 4.92ms\tremaining: 118ms\n",
      "2:\tlearn: 67998.5409003\ttotal: 6.58ms\tremaining: 103ms\n",
      "3:\tlearn: 64907.8683732\ttotal: 7.82ms\tremaining: 89.9ms\n",
      "4:\tlearn: 61918.2379738\ttotal: 9.15ms\tremaining: 82.4ms\n",
      "5:\tlearn: 59345.6333653\ttotal: 10.3ms\tremaining: 75.4ms\n",
      "6:\tlearn: 56977.9188050\ttotal: 11.4ms\tremaining: 70.1ms\n",
      "7:\tlearn: 54748.8206044\ttotal: 12.1ms\tremaining: 63.6ms\n",
      "8:\tlearn: 52964.0486945\ttotal: 15ms\tremaining: 68.2ms\n",
      "9:\tlearn: 51347.1323650\ttotal: 16.3ms\tremaining: 65.1ms\n",
      "10:\tlearn: 50268.7230737\ttotal: 17.4ms\tremaining: 61.8ms\n",
      "11:\tlearn: 49328.4215602\ttotal: 18.6ms\tremaining: 59ms\n",
      "12:\tlearn: 48386.1348226\ttotal: 19.7ms\tremaining: 56.1ms\n",
      "13:\tlearn: 47420.5165274\ttotal: 20.5ms\tremaining: 52.7ms\n",
      "14:\tlearn: 46607.2420092\ttotal: 21.3ms\tremaining: 49.7ms\n",
      "15:\tlearn: 45838.1108704\ttotal: 22.1ms\tremaining: 46.9ms\n",
      "16:\tlearn: 45248.7269286\ttotal: 22.8ms\tremaining: 44.2ms\n",
      "17:\tlearn: 44801.9875450\ttotal: 23.7ms\tremaining: 42.2ms\n",
      "18:\tlearn: 44237.1010944\ttotal: 24.9ms\tremaining: 40.6ms\n",
      "19:\tlearn: 43971.9115254\ttotal: 25.7ms\tremaining: 38.6ms\n",
      "20:\tlearn: 43497.2078126\ttotal: 27.1ms\tremaining: 37.5ms\n",
      "21:\tlearn: 43165.2700803\ttotal: 28.1ms\tremaining: 35.7ms\n",
      "22:\tlearn: 42910.1100994\ttotal: 29ms\tremaining: 34ms\n",
      "23:\tlearn: 42640.9741491\ttotal: 29.9ms\tremaining: 32.4ms\n",
      "24:\tlearn: 42376.5988417\ttotal: 31ms\tremaining: 31ms\n",
      "25:\tlearn: 42154.6980407\ttotal: 31.9ms\tremaining: 29.4ms\n",
      "26:\tlearn: 41885.2731150\ttotal: 33.6ms\tremaining: 28.6ms\n",
      "27:\tlearn: 41535.2159495\ttotal: 35.2ms\tremaining: 27.6ms\n",
      "28:\tlearn: 41304.7782891\ttotal: 36.1ms\tremaining: 26.1ms\n",
      "29:\tlearn: 41035.5390940\ttotal: 37ms\tremaining: 24.7ms\n",
      "30:\tlearn: 40928.1008984\ttotal: 37.8ms\tremaining: 23.1ms\n",
      "31:\tlearn: 40737.4218467\ttotal: 38.5ms\tremaining: 21.7ms\n",
      "32:\tlearn: 40543.1467113\ttotal: 39.3ms\tremaining: 20.2ms\n",
      "33:\tlearn: 40309.0429501\ttotal: 40.3ms\tremaining: 19ms\n",
      "34:\tlearn: 40215.1462362\ttotal: 41ms\tremaining: 17.6ms\n",
      "35:\tlearn: 40040.1536684\ttotal: 41.9ms\tremaining: 16.3ms\n",
      "36:\tlearn: 39928.7113594\ttotal: 42.8ms\tremaining: 15.1ms\n",
      "37:\tlearn: 39864.9910967\ttotal: 43.6ms\tremaining: 13.8ms\n",
      "38:\tlearn: 39802.4966679\ttotal: 44.4ms\tremaining: 12.5ms\n",
      "39:\tlearn: 39610.1155606\ttotal: 45.3ms\tremaining: 11.3ms\n",
      "40:\tlearn: 39531.5891538\ttotal: 46.4ms\tremaining: 10.2ms\n",
      "41:\tlearn: 39422.3386458\ttotal: 47.2ms\tremaining: 9ms\n",
      "42:\tlearn: 39341.2900626\ttotal: 48ms\tremaining: 7.81ms\n",
      "43:\tlearn: 39228.3742589\ttotal: 48.8ms\tremaining: 6.65ms\n",
      "44:\tlearn: 39148.8986618\ttotal: 50.4ms\tremaining: 5.6ms\n",
      "45:\tlearn: 39058.5975767\ttotal: 51.2ms\tremaining: 4.45ms\n",
      "46:\tlearn: 38942.3631893\ttotal: 52.3ms\tremaining: 3.34ms\n",
      "47:\tlearn: 38822.1283631\ttotal: 53.2ms\tremaining: 2.21ms\n",
      "48:\tlearn: 38711.4670401\ttotal: 53.9ms\tremaining: 1.1ms\n",
      "49:\tlearn: 38636.0234535\ttotal: 55ms\tremaining: 0us\n"
     ]
    },
    {
     "data": {
      "text/plain": [
       "<catboost.core.CatBoostRegressor at 0x1a2944d250>"
      ]
     },
     "execution_count": 105,
     "metadata": {},
     "output_type": "execute_result"
    }
   ],
   "source": [
    "cat_boost = CatBoostRegressor(iterations=50, depth=3, learning_rate=0.1, loss_function='RMSE')\n",
    "cat_boost.fit(X_train, y_train, cat_features=category)"
   ]
  },
  {
   "cell_type": "code",
   "execution_count": 106,
   "metadata": {},
   "outputs": [],
   "source": [
    "y_pred = cat_boost.predict(X_test)"
   ]
  },
  {
   "cell_type": "code",
   "execution_count": 107,
   "metadata": {},
   "outputs": [
    {
     "data": {
      "text/html": [
       "<div>\n",
       "<style scoped>\n",
       "    .dataframe tbody tr th:only-of-type {\n",
       "        vertical-align: middle;\n",
       "    }\n",
       "\n",
       "    .dataframe tbody tr th {\n",
       "        vertical-align: top;\n",
       "    }\n",
       "\n",
       "    .dataframe thead th {\n",
       "        text-align: right;\n",
       "    }\n",
       "</style>\n",
       "<table border=\"1\" class=\"dataframe\">\n",
       "  <thead>\n",
       "    <tr style=\"text-align: right;\">\n",
       "      <th></th>\n",
       "      <th>Actual</th>\n",
       "      <th>Predicted</th>\n",
       "    </tr>\n",
       "  </thead>\n",
       "  <tbody>\n",
       "    <tr>\n",
       "      <th>0</th>\n",
       "      <td>200624</td>\n",
       "      <td>200713.583163</td>\n",
       "    </tr>\n",
       "    <tr>\n",
       "      <th>1</th>\n",
       "      <td>133000</td>\n",
       "      <td>151307.474752</td>\n",
       "    </tr>\n",
       "    <tr>\n",
       "      <th>2</th>\n",
       "      <td>110000</td>\n",
       "      <td>122240.560209</td>\n",
       "    </tr>\n",
       "    <tr>\n",
       "      <th>3</th>\n",
       "      <td>192000</td>\n",
       "      <td>201454.880809</td>\n",
       "    </tr>\n",
       "    <tr>\n",
       "      <th>4</th>\n",
       "      <td>88000</td>\n",
       "      <td>132461.589263</td>\n",
       "    </tr>\n",
       "  </tbody>\n",
       "</table>\n",
       "</div>"
      ],
      "text/plain": [
       "   Actual      Predicted\n",
       "0  200624  200713.583163\n",
       "1  133000  151307.474752\n",
       "2  110000  122240.560209\n",
       "3  192000  201454.880809\n",
       "4   88000  132461.589263"
      ]
     },
     "execution_count": 107,
     "metadata": {},
     "output_type": "execute_result"
    }
   ],
   "source": [
    "#Results using regressor\n",
    "df = pd.DataFrame({'Actual': y_test[\"SalePrice\"].to_list(), 'Predicted': list(y_pred.flatten())})\n",
    "df.head()"
   ]
  },
  {
   "cell_type": "code",
   "execution_count": 108,
   "metadata": {},
   "outputs": [
    {
     "data": {
      "text/plain": [
       "44971.99008542849"
      ]
     },
     "execution_count": 108,
     "metadata": {},
     "output_type": "execute_result"
    }
   ],
   "source": [
    "## We should also look at RMSE\n",
    "rmse = sqrt(mean_squared_error(y_test, y_pred))\n",
    "rmse"
   ]
  },
  {
   "cell_type": "code",
   "execution_count": 109,
   "metadata": {},
   "outputs": [
    {
     "data": {
      "text/plain": [
       "0.06633036885756415"
      ]
     },
     "execution_count": 109,
     "metadata": {},
     "output_type": "execute_result"
    }
   ],
   "source": [
    "## Normalised RMSE\n",
    "sqrt(mean_squared_error(y_test, y_pred)) / (y_test[\"SalePrice\"].max() - y_test[\"SalePrice\"].min())"
   ]
  },
  {
   "cell_type": "code",
   "execution_count": 110,
   "metadata": {},
   "outputs": [
    {
     "data": {
      "text/plain": [
       "array(['OverallQual', 'OverallCond', 'LotArea', 'YearBuilt', 'Street',\n",
       "       'LotShape'], dtype=object)"
      ]
     },
     "execution_count": 110,
     "metadata": {},
     "output_type": "execute_result"
    }
   ],
   "source": [
    "main_df.drop([\"SalePrice\"], axis = 1).columns.values"
   ]
  },
  {
   "cell_type": "code",
   "execution_count": 111,
   "metadata": {},
   "outputs": [
    {
     "data": {
      "text/html": [
       "[75.20548379349935, 0.6341694699594547, 20.82214036371604, 2.020980731221132, 0.0005948072986689341, 1.316630834305324]"
      ],
      "text/plain": [
       "[75.20548379349935,\n",
       " 0.6341694699594547,\n",
       " 20.82214036371604,\n",
       " 2.020980731221132,\n",
       " 0.0005948072986689341,\n",
       " 1.316630834305324]"
      ]
     },
     "execution_count": 111,
     "metadata": {},
     "output_type": "execute_result"
    }
   ],
   "source": [
    "list(cat_boost.get_feature_importance(Pool(X_test, label = y_test, cat_features=category)))"
   ]
  },
  {
   "cell_type": "markdown",
   "metadata": {},
   "source": [
    "#### Overall Qual is largest predictor, with LotArea being very important as well"
   ]
  }
 ],
 "metadata": {
  "kernelspec": {
   "display_name": "Python 3",
   "language": "python",
   "name": "python3"
  },
  "language_info": {
   "codemirror_mode": {
    "name": "ipython",
    "version": 3
   },
   "file_extension": ".py",
   "mimetype": "text/x-python",
   "name": "python",
   "nbconvert_exporter": "python",
   "pygments_lexer": "ipython3",
   "version": "3.7.6"
  }
 },
 "nbformat": 4,
 "nbformat_minor": 4
}
