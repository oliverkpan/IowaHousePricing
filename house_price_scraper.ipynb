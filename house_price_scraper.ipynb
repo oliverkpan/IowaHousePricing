{
 "cells": [
  {
   "cell_type": "markdown",
   "metadata": {},
   "source": [
    "### Scraping data for server\n",
    "\n",
    "##### Pulling sold houses from https://www.realtytrac.com/mapsearch/sold/ia/polk-county/"
   ]
  },
  {
   "cell_type": "code",
   "execution_count": 11,
   "metadata": {},
   "outputs": [],
   "source": [
    "#Import libraries\n",
    "import requests\n",
    "from requests import get\n",
    "from bs4 import BeautifulSoup\n",
    "import pandas as pd\n",
    "import numpy as np"
   ]
  },
  {
   "cell_type": "code",
   "execution_count": 12,
   "metadata": {},
   "outputs": [],
   "source": [
    "#Pull from source\n",
    "url = \"https://www.realtytrac.com/mapsearch/sold/ia/polk-county/\"\n",
    "headers = {\"Accept-Language\": \"en-US, en;q=0.5\"}\n",
    "results = requests.get(url, headers=headers)"
   ]
  },
  {
   "cell_type": "code",
   "execution_count": 13,
   "metadata": {},
   "outputs": [],
   "source": [
    "#Scrape\n",
    "soup = BeautifulSoup(results.text, \"html.parser\")"
   ]
  },
  {
   "cell_type": "code",
   "execution_count": 15,
   "metadata": {},
   "outputs": [
    {
     "data": {
      "text/plain": [
       "[<dl class=\"info clearfix\">\n",
       " <dd class=\"price\">$396,000</dd>\n",
       " <dt class=\"price\">(Estimated Value)</dt>\n",
       " <dt class=\"date\">Sold:</dt>\n",
       " <dd>\n",
       " 10/16/2020                        </dd>\n",
       " </dl>,\n",
       " <dl class=\"info clearfix\">\n",
       " <dd class=\"price\">$585,000</dd>\n",
       " <dt class=\"price\">(Sold Price)</dt>\n",
       " <dt class=\"date\">Sold:</dt>\n",
       " <dd>\n",
       " 10/16/2020                        </dd>\n",
       " </dl>,\n",
       " <dl class=\"info clearfix\">\n",
       " <dd class=\"price\">$546,000</dd>\n",
       " <dt class=\"price\">(Sold Price)</dt>\n",
       " <dt class=\"date\">Sold:</dt>\n",
       " <dd>\n",
       " 10/16/2020                        </dd>\n",
       " </dl>,\n",
       " <dl class=\"info clearfix\">\n",
       " <dd class=\"price\">$335,000</dd>\n",
       " <dt class=\"price\">(Sold Price)</dt>\n",
       " <dt class=\"date\">Sold:</dt>\n",
       " <dd>\n",
       " 10/16/2020                        </dd>\n",
       " </dl>,\n",
       " <dl class=\"info clearfix\">\n",
       " <dd class=\"price\">$278,500</dd>\n",
       " <dt class=\"price\">(Sold Price)</dt>\n",
       " <dt class=\"date\">Sold:</dt>\n",
       " <dd>\n",
       " 10/15/2020                        </dd>\n",
       " </dl>,\n",
       " <dl class=\"info clearfix\">\n",
       " <dd class=\"price\">$515,000</dd>\n",
       " <dt class=\"price\">(Sold Price)</dt>\n",
       " <dt class=\"date\">Sold:</dt>\n",
       " <dd>\n",
       " 10/15/2020                        </dd>\n",
       " </dl>,\n",
       " <dl class=\"info clearfix\">\n",
       " <dd class=\"price\">$535,000</dd>\n",
       " <dt class=\"price\">(Sold Price)</dt>\n",
       " <dt class=\"date\">Sold:</dt>\n",
       " <dd>\n",
       " 10/15/2020                        </dd>\n",
       " </dl>,\n",
       " <dl class=\"info clearfix\">\n",
       " <dd class=\"price\">$320,000</dd>\n",
       " <dt class=\"price\">(Sold Price)</dt>\n",
       " <dt class=\"date\">Sold:</dt>\n",
       " <dd>\n",
       " 10/15/2020                        </dd>\n",
       " </dl>,\n",
       " <dl class=\"info clearfix\">\n",
       " <dd class=\"price\">$297,500</dd>\n",
       " <dt class=\"price\">(Sold Price)</dt>\n",
       " <dt class=\"date\">Sold:</dt>\n",
       " <dd>\n",
       " 10/15/2020                        </dd>\n",
       " </dl>,\n",
       " <dl class=\"info clearfix\">\n",
       " <dd class=\"price\">$190,000</dd>\n",
       " <dt class=\"price\">(Sold Price)</dt>\n",
       " <dt class=\"date\">Sold:</dt>\n",
       " <dd>\n",
       " 10/15/2020                        </dd>\n",
       " </dl>]"
      ]
     },
     "execution_count": 15,
     "metadata": {},
     "output_type": "execute_result"
    }
   ],
   "source": [
    "house_div = soup.find_all('dl', 'info clearfix')\n",
    "house_div"
   ]
  },
  {
   "cell_type": "code",
   "execution_count": 16,
   "metadata": {},
   "outputs": [],
   "source": [
    "prices = []\n",
    "beds = []"
   ]
  },
  {
   "cell_type": "code",
   "execution_count": 17,
   "metadata": {},
   "outputs": [],
   "source": [
    "for container in house_div:\n",
    "    name = container.dd.text\n",
    "    prices.append(name)"
   ]
  },
  {
   "cell_type": "code",
   "execution_count": 18,
   "metadata": {},
   "outputs": [
    {
     "data": {
      "text/plain": [
       "['$396,000',\n",
       " '$585,000',\n",
       " '$546,000',\n",
       " '$335,000',\n",
       " '$278,500',\n",
       " '$515,000',\n",
       " '$535,000',\n",
       " '$320,000',\n",
       " '$297,500',\n",
       " '$190,000']"
      ]
     },
     "execution_count": 18,
     "metadata": {},
     "output_type": "execute_result"
    }
   ],
   "source": [
    "prices"
   ]
  },
  {
   "cell_type": "code",
   "execution_count": null,
   "metadata": {},
   "outputs": [],
   "source": []
  },
  {
   "cell_type": "code",
   "execution_count": null,
   "metadata": {},
   "outputs": [],
   "source": []
  }
 ],
 "metadata": {
  "kernelspec": {
   "display_name": "Python 3",
   "language": "python",
   "name": "python3"
  },
  "language_info": {
   "codemirror_mode": {
    "name": "ipython",
    "version": 3
   },
   "file_extension": ".py",
   "mimetype": "text/x-python",
   "name": "python",
   "nbconvert_exporter": "python",
   "pygments_lexer": "ipython3",
   "version": "3.8.3"
  }
 },
 "nbformat": 4,
 "nbformat_minor": 4
}
